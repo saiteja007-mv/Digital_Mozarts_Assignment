{
 "cells": [
  {
   "cell_type": "code",
   "execution_count": 9,
   "id": "31e0e1cf",
   "metadata": {},
   "outputs": [
    {
     "name": "stdout",
     "output_type": "stream",
     "text": [
      "Total impressions: 35678593.0\n"
     ]
    }
   ],
   "source": [
    "#calculate total impressions for the age group 30-34\n",
    "import pandas as pd\n",
    "facebook = pd.read_csv(\"data.csv\")\n",
    "data_impression = facebook.loc[facebook[\"age\"]=='30-34' , 'impressions']\n",
    "print(\"Total impressions:\",sum(data_impression))"
   ]
  },
  {
   "cell_type": "code",
   "execution_count": 29,
   "id": "5bbaf221",
   "metadata": {},
   "outputs": [
    {
     "name": "stdout",
     "output_type": "stream",
     "text": [
      "['916' '936' '1178' '45-49' '30-34' '35-39' '40-44']\n",
      "0        708746\n",
      "1        708749\n",
      "2        708771\n",
      "3        708815\n",
      "4        708818\n",
      "         ...   \n",
      "1138    1314410\n",
      "1139    1314411\n",
      "1140    1314412\n",
      "1141    1314414\n",
      "1142    1314415\n",
      "Name: ad_id, Length: 1143, dtype: int64\n"
     ]
    }
   ],
   "source": [
    "#get all ad_ids for every campaign_id (a campaign contains multiple ads)\n",
    "#all_aids = facebook.loc[facebook[\"campaign_id\"],facebook[\"ad_id\"]]\n",
    "\n",
    "all_aids = facebook[\"campaign_id\"].unique()\n",
    "final_aids = facebook.loc[facebook[\"campaign_id\"].isin(all_aids),\"ad_id\"]\n",
    "print(all_aids)\n",
    "print(final_aids)"
   ]
  },
  {
   "cell_type": "code",
   "execution_count": 17,
   "id": "4d11c1a0",
   "metadata": {},
   "outputs": [
    {
     "name": "stdout",
     "output_type": "stream",
     "text": [
      "Total clicks: 2622\n"
     ]
    }
   ],
   "source": [
    " #get total clicks where report_start between dates 19/08/2017 to 22/08/2017 (both inclusive)\n",
    "total_clicks = facebook.loc[facebook[\"reporting_start\"].between(\"19/08/2017\",\"22/08/2017\"),\"clicks\"]\n",
    "print(\"Total clicks:\",sum(total_clicks))"
   ]
  }
 ],
 "metadata": {
  "kernelspec": {
   "display_name": "Python 3 (ipykernel)",
   "language": "python",
   "name": "python3"
  },
  "language_info": {
   "codemirror_mode": {
    "name": "ipython",
    "version": 3
   },
   "file_extension": ".py",
   "mimetype": "text/x-python",
   "name": "python",
   "nbconvert_exporter": "python",
   "pygments_lexer": "ipython3",
   "version": "3.10.0"
  }
 },
 "nbformat": 4,
 "nbformat_minor": 5
}
